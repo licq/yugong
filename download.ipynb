{
 "cells": [
  {
   "cell_type": "code",
   "execution_count": 34,
   "metadata": {},
   "outputs": [],
   "source": [
    "from pathlib import Path\n",
    "import threading\n",
    "import yt_dlp\n",
    "import json"
   ]
  },
  {
   "cell_type": "code",
   "execution_count": 12,
   "metadata": {},
   "outputs": [],
   "source": [
    "import logging\n",
    "\n",
    "from colorlog import ColoredFormatter\n",
    "\n",
    "handler = logging.StreamHandler()\n",
    "\n",
    "formatter = ColoredFormatter(\n",
    "    \"%(log_color)s [%(asctime)s] %(levelname)-8s [%(threadName)s] %(message)s\",\n",
    "    datefmt='%Y-%m-%d %H:%M:%S',\n",
    "    reset=True,\n",
    "    log_colors={\n",
    "        'DEBUG': 'cyan',\n",
    "        'INFO': 'green',\n",
    "        'WARNING': 'yellow',\n",
    "        'ERROR': 'red',\n",
    "        'CRITICAL': 'red,bg_white',\n",
    "    },\n",
    "    secondary_log_colors={},\n",
    "    style='%'\n",
    ")\n",
    "\n",
    "handler.setFormatter(formatter)\n",
    "logger = logging.getLogger()\n",
    "logger.addHandler(handler)\n",
    "\n",
    "logger.setLevel('DEBUG')\n"
   ]
  },
  {
   "cell_type": "code",
   "execution_count": 22,
   "metadata": {},
   "outputs": [],
   "source": [
    "data_dir = Path.cwd() / 'data'\n",
    "data_dir.mkdir(exist_ok=True)"
   ]
  },
  {
   "cell_type": "code",
   "execution_count": 38,
   "metadata": {},
   "outputs": [],
   "source": [
    "def download_video(url, data_dir):\n",
    "    v = url.split('v=')[1].split('&')[0]\n",
    "    data_dir = data_dir / v\n",
    "    download_thread = threading.Thread(target=download, args=(url,data_dir))\n",
    "    download_thread.start()\n"
   ]
  },
  {
   "cell_type": "code",
   "execution_count": 42,
   "metadata": {},
   "outputs": [],
   "source": [
    "def download(url, data_dir):\n",
    "    options = {\n",
    "        'format': 'bestvideo+bestaudio/best',\n",
    "        'outtmpl': f'{data_dir}/%(title)s.%(ext)s',\n",
    "        'progress_hooks': [update_progress],\n",
    "        'logger': logger,\n",
    "        'writeinfojson': True,\n",
    "    }\n",
    "    with yt_dlp.YoutubeDL(options) as ydl:\n",
    "        ydl.download(url)\n"
   ]
  },
  {
   "cell_type": "code",
   "execution_count": 43,
   "metadata": {},
   "outputs": [],
   "source": [
    "def update_progress(d):\n",
    "    if d['status'] == 'downloading':\n",
    "        print(f\"\\r{d['_percent_str']} of {d['_total_bytes_str']} at {d['_speed_str']}\", end='')\n",
    "    if d['status'] == 'finished':\n",
    "        print('\\nDownload complete')"
   ]
  },
  {
   "cell_type": "code",
   "execution_count": 44,
   "metadata": {},
   "outputs": [
    {
     "name": "stderr",
     "output_type": "stream",
     "text": [
      "\u001b[36m [2024-02-26 19:08:45] DEBUG    [Thread-13 (download)] [youtube] Extracting URL: https://www.youtube.com/watch?v=F1bXfnrzAxM&ab_channel=MatthewGrdinic\u001b[0m\n"
     ]
    },
    {
     "name": "stderr",
     "output_type": "stream",
     "text": [
      "\u001b[36m [2024-02-26 19:08:45] DEBUG    [Thread-13 (download)] [youtube] Extracting URL: https://www.youtube.com/watch?v=F1bXfnrzAxM&ab_channel=MatthewGrdinic\u001b[0m\n",
      "\u001b[36m [2024-02-26 19:08:45] DEBUG    [Thread-13 (download)] [youtube] F1bXfnrzAxM: Downloading webpage\u001b[0m\n",
      "\u001b[36m [2024-02-26 19:08:45] DEBUG    [Thread-13 (download)] [youtube] F1bXfnrzAxM: Downloading webpage\u001b[0m\n",
      "\u001b[36m [2024-02-26 19:08:46] DEBUG    [Thread-13 (download)] [youtube] F1bXfnrzAxM: Downloading ios player API JSON\u001b[0m\n",
      "\u001b[36m [2024-02-26 19:08:46] DEBUG    [Thread-13 (download)] [youtube] F1bXfnrzAxM: Downloading ios player API JSON\u001b[0m\n",
      "\u001b[36m [2024-02-26 19:08:46] DEBUG    [Thread-13 (download)] [youtube] F1bXfnrzAxM: Downloading android player API JSON\u001b[0m\n",
      "\u001b[36m [2024-02-26 19:08:46] DEBUG    [Thread-13 (download)] [youtube] F1bXfnrzAxM: Downloading android player API JSON\u001b[0m\n",
      "\u001b[36m [2024-02-26 19:08:46] DEBUG    [Thread-13 (download)] [youtube] F1bXfnrzAxM: Downloading m3u8 information\u001b[0m\n",
      "\u001b[36m [2024-02-26 19:08:46] DEBUG    [Thread-13 (download)] [youtube] F1bXfnrzAxM: Downloading m3u8 information\u001b[0m\n",
      "\u001b[36m [2024-02-26 19:08:47] DEBUG    [Thread-13 (download)] [info] F1bXfnrzAxM: Downloading 1 format(s): 313+251\u001b[0m\n",
      "\u001b[36m [2024-02-26 19:08:47] DEBUG    [Thread-13 (download)] [info] F1bXfnrzAxM: Downloading 1 format(s): 313+251\u001b[0m\n",
      "\u001b[36m [2024-02-26 19:08:47] DEBUG    [Thread-13 (download)] [info] Writing video metadata as JSON to: /home/dustin/workspace/yugong/data/F1bXfnrzAxM/Replace Github Copilot with a Local LLM.info.json\u001b[0m\n",
      "\u001b[36m [2024-02-26 19:08:47] DEBUG    [Thread-13 (download)] [info] Writing video metadata as JSON to: /home/dustin/workspace/yugong/data/F1bXfnrzAxM/Replace Github Copilot with a Local LLM.info.json\u001b[0m\n",
      "\u001b[36m [2024-02-26 19:08:47] DEBUG    [Thread-13 (download)] [download] /home/dustin/workspace/yugong/data/F1bXfnrzAxM/Replace Github Copilot with a Local LLM.webm has already been downloaded\u001b[0m\n",
      "\u001b[36m [2024-02-26 19:08:47] DEBUG    [Thread-13 (download)] [download] /home/dustin/workspace/yugong/data/F1bXfnrzAxM/Replace Github Copilot with a Local LLM.webm has already been downloaded\u001b[0m\n"
     ]
    }
   ],
   "source": [
    "download_video('https://www.youtube.com/watch?v=F1bXfnrzAxM&ab_channel=MatthewGrdinic', data_dir)"
   ]
  },
  {
   "cell_type": "code",
   "execution_count": null,
   "metadata": {},
   "outputs": [],
   "source": []
  }
 ],
 "metadata": {
  "kernelspec": {
   "display_name": "vm",
   "language": "python",
   "name": "python3"
  },
  "language_info": {
   "codemirror_mode": {
    "name": "ipython",
    "version": 3
   },
   "file_extension": ".py",
   "mimetype": "text/x-python",
   "name": "python",
   "nbconvert_exporter": "python",
   "pygments_lexer": "ipython3",
   "version": "3.10.13"
  }
 },
 "nbformat": 4,
 "nbformat_minor": 2
}
